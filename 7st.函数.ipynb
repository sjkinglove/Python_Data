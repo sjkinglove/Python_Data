{
 "cells": [
  {
   "cell_type": "markdown",
   "metadata": {},
   "source": [
    "# 定义函数"
   ]
  },
  {
   "cell_type": "code",
   "execution_count": 2,
   "metadata": {},
   "outputs": [
    {
     "name": "stdout",
     "output_type": "stream",
     "text": [
      "hello world\n"
     ]
    }
   ],
   "source": [
    "def greet_user():\n",
    "    '''显示简单的问候语'''\n",
    "    print(\"hello world\")\n",
    "    \n",
    "greet_user()"
   ]
  },
  {
   "cell_type": "code",
   "execution_count": 4,
   "metadata": {},
   "outputs": [
    {
     "name": "stdout",
     "output_type": "stream",
     "text": [
      "Hello,jesse\n"
     ]
    }
   ],
   "source": [
    "#向函数传递参数\n",
    "#username形参\n",
    "def greet_user(username):\n",
    "    print(\"Hello,\"+username)\n",
    "#jesse实参\n",
    "greet_user('jesse')"
   ]
  },
  {
   "cell_type": "markdown",
   "metadata": {},
   "source": [
    "# 传递实参"
   ]
  },
  {
   "cell_type": "code",
   "execution_count": 3,
   "metadata": {},
   "outputs": [
    {
     "name": "stdout",
     "output_type": "stream",
     "text": [
      "\n",
      "I have a dog\n",
      "my dog's name is Harry\n"
     ]
    }
   ],
   "source": [
    "#位置实参\n",
    "def describe_pet(animal_type,pet_name):\n",
    "    print(\"\\nI have a \"+animal_type)\n",
    "    print(\"my \"+animal_type+\"'s name is \"+pet_name.title())\n",
    "describe_pet('dog','Harry')"
   ]
  }
 ],
 "metadata": {
  "kernelspec": {
   "display_name": "Python 3",
   "language": "python",
   "name": "python3"
  },
  "language_info": {
   "codemirror_mode": {
    "name": "ipython",
    "version": 3
   },
   "file_extension": ".py",
   "mimetype": "text/x-python",
   "name": "python",
   "nbconvert_exporter": "python",
   "pygments_lexer": "ipython3",
   "version": "3.7.1"
  }
 },
 "nbformat": 4,
 "nbformat_minor": 2
}

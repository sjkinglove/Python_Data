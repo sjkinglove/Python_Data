{
 "cells": [
  {
   "cell_type": "markdown",
   "metadata": {},
   "source": [
    "# 定义函数"
   ]
  },
  {
   "cell_type": "code",
   "execution_count": 2,
   "metadata": {},
   "outputs": [
    {
     "name": "stdout",
     "output_type": "stream",
     "text": [
      "hello world\n"
     ]
    }
   ],
   "source": [
    "def greet_user():\n",
    "    '''显示简单的问候语'''\n",
    "    print(\"hello world\")\n",
    "    \n",
    "greet_user()"
   ]
  },
  {
   "cell_type": "code",
   "execution_count": 4,
   "metadata": {},
   "outputs": [
    {
     "name": "stdout",
     "output_type": "stream",
     "text": [
      "Hello,jesse\n"
     ]
    }
   ],
   "source": [
    "#向函数传递参数\n",
    "#username形参\n",
    "def greet_user(username):\n",
    "    print(\"Hello,\"+username)\n",
    "#jesse实参\n",
    "greet_user('jesse')"
   ]
  },
  {
   "cell_type": "markdown",
   "metadata": {},
   "source": [
    "# 传递实参"
   ]
  },
  {
   "cell_type": "code",
   "execution_count": 1,
   "metadata": {},
   "outputs": [
    {
     "name": "stdout",
     "output_type": "stream",
     "text": [
      "\n",
      "I have a dog\n",
      "my dog's name is Harry\n"
     ]
    }
   ],
   "source": [
    "#位置实参\n",
    "def describe_pet(animal_type,pet_name):\n",
    "    print(\"\\nI have a \"+animal_type)\n",
    "    print(\"my \"+animal_type+\"'s name is \"+pet_name.title())\n",
    "describe_pet('dog','Harry')"
   ]
  },
  {
   "cell_type": "code",
   "execution_count": 3,
   "metadata": {},
   "outputs": [
    {
     "name": "stdout",
     "output_type": "stream",
     "text": [
      "\n",
      "I have a dog\n",
      "my dog's name is Harry\n"
     ]
    }
   ],
   "source": [
    "#关键字实参\n",
    "def describe_pet(animal_type,pet_name):\n",
    "    print(\"\\nI have a \"+animal_type)\n",
    "    print(\"my \"+animal_type+\"'s name is \"+pet_name.title())\n",
    "describe_pet(animal_type='dog',pet_name='Harry')"
   ]
  },
  {
   "cell_type": "code",
   "execution_count": 5,
   "metadata": {},
   "outputs": [
    {
     "name": "stdout",
     "output_type": "stream",
     "text": [
      "\n",
      "I have a dog\n",
      "my dog's name is Harry\n"
     ]
    }
   ],
   "source": [
    "#形参可设默认值\n",
    "def describe_pet(animal_type='dog',pet_name='Harry'):\n",
    "    print(\"\\nI have a \"+animal_type)\n",
    "    print(\"my \"+animal_type+\"'s name is \"+pet_name.title())\n",
    "describe_pet()"
   ]
  },
  {
   "cell_type": "markdown",
   "metadata": {},
   "source": [
    "# 返回值\n",
    "    函数可返回任何类型的值"
   ]
  },
  {
   "cell_type": "markdown",
   "metadata": {},
   "source": [
    "# 传递列表"
   ]
  },
  {
   "cell_type": "code",
   "execution_count": 10,
   "metadata": {},
   "outputs": [
    {
     "name": "stdout",
     "output_type": "stream",
     "text": [
      "2\n",
      "4\n",
      "6\n",
      "8\n",
      "----------------------------------------\n"
     ]
    }
   ],
   "source": [
    "nums=[i for i in range(1,10) if i%2==0]\n",
    "\n",
    "def traversal(nums):\n",
    "    for num in nums:\n",
    "        print(num)\n",
    "\n",
    "traversal(nums)\n",
    "print(\"-\"*40)\n"
   ]
  },
  {
   "cell_type": "code",
   "execution_count": 19,
   "metadata": {},
   "outputs": [
    {
     "name": "stdout",
     "output_type": "stream",
     "text": [
      "Printing model:dodecahedron\n",
      "Printing model:robot pendant\n",
      "Printing model:iphone case\n",
      "\n",
      "The following models have been printed:\n",
      "dodecahedron\n",
      "robot pendant\n",
      "iphone case\n",
      "----------------------------------------\n",
      "Printing model:dodecahedron\n",
      "Printing model:robot pendant\n",
      "Printing model:iphone case\n",
      "\n",
      "The following models have been printed:\n",
      "dodecahedron\n",
      "robot pendant\n",
      "iphone case\n",
      "----------------------------------------\n",
      "Printing model:dodecahedron\n",
      "Printing model:robot pendant\n",
      "Printing model:iphone case\n",
      "['iphone case', 'robot pendant', 'dodecahedron']\n"
     ]
    }
   ],
   "source": [
    "#在函数中修改列表\n",
    "#首先创建一个表，其中包含要打印的设计\n",
    "unprinted_designs=['iphone case','robot pendant','dodecahedron']\n",
    "completed_models=[]\n",
    "\n",
    "#模拟打印每个设计，直到打印没有的设计为止\n",
    "#打印完每个设计后，都将其移入列表completed_models中\n",
    "while unprinted_designs:\n",
    "    current_design=unprinted_designs.pop()\n",
    "    \n",
    "    #模拟根据设计的制作的3d打印模型的过场\n",
    "    print(\"Printing model:\"+current_design)\n",
    "    completed_models.append(current_design)\n",
    "    \n",
    "#显示打印好的所有模型\n",
    "print(\"\\nThe following models have been printed:\")\n",
    "for completed_model in completed_models:\n",
    "    print(completed_model)\n",
    "print(\"-\"*40)\n",
    "\n",
    "#重新组织这些代码，编写两个函数，每一个做一件具体工作，提高效率\n",
    "def print_models(unprinted_designs,completed_models):\n",
    "    '''\n",
    "    模拟打印每个设计，直到没有打印的设计为止\n",
    "    打印每个设计后，都移到completed_models中\n",
    "    '''\n",
    "    while unprinted_designs:\n",
    "        current_design=unprinted_designs.pop()\n",
    "        \n",
    "        #模拟根据设计制作3D打印模拟过程\n",
    "        print(\"Printing model:\"+current_design)\n",
    "        completed_models.append(current_design)\n",
    "        \n",
    "def show_completed_models(completed_models):\n",
    "    '''显示打印好的所有模拟'''\n",
    "    print(\"\\nThe following models have been printed:\")\n",
    "    for completed_model in completed_models:\n",
    "        print(completed_model)\n",
    "\n",
    "unprinted_designs=['iphone case','robot pendant','dodecahedron']\n",
    "completed_models=[]\n",
    "\n",
    "print_models(unprinted_designs,completed_models)\n",
    "show_completed_models(completed_models)\n",
    "print(\"-\"*40)\n",
    "\n",
    "#禁止函数修改列表\n",
    "#function_name(list_name[:])\n",
    "unprinted_designs=['iphone case','robot pendant','dodecahedron']\n",
    "completed_models=[]\n",
    "print_models(unprinted_designs[:],completed_models)\n",
    "print(unprinted_designs)"
   ]
  },
  {
   "cell_type": "markdown",
   "metadata": {},
   "source": [
    "# 传递任意数量的实参（收集参数）"
   ]
  },
  {
   "cell_type": "code",
   "execution_count": 29,
   "metadata": {},
   "outputs": [
    {
     "name": "stdout",
     "output_type": "stream",
     "text": [
      "<class 'tuple'>\n",
      "('pepperoni',)\n",
      "<class 'tuple'>\n",
      "('pepperoni', 'green peppers')\n",
      "----------------------------------------\n",
      "\n",
      "Making a 16-inch pizza with the following toppiings:\n",
      "- pepperoni\n",
      "\n",
      "Making a 12-inch pizza with the following toppiings:\n",
      "- mushrooms\n",
      "- green peppers\n",
      "----------------------------------------\n",
      "<class 'dict'>\n",
      "{'first_name': 'albert', 'last_name': 'einstein', 'location': 'princeton', 'filed': 'physics'}\n"
     ]
    }
   ],
   "source": [
    "def make_pizza(*topping):\n",
    "    print(type(topping))\n",
    "    print(topping)\n",
    "make_pizza('pepperoni')\n",
    "make_pizza('pepperoni','green peppers')\n",
    "print(\"-\"*40)\n",
    "\n",
    "#结合使用位置，实参和任意数量实参\n",
    "def make_pizza(size,*toppings):\n",
    "    print(\"\\nMaking a \"+str(size)+\"-inch pizza with the following toppiings:\")\n",
    "    for topping in toppings:\n",
    "        print(\"- \"+topping)\n",
    "make_pizza(16,'pepperoni')\n",
    "make_pizza(12,'mushrooms','green peppers')\n",
    "print(\"-\"*40)\n",
    "\n",
    "#任意数量的关键字实参\n",
    "def build_profile(first,last,**user_info):\n",
    "    print(type(user_info))\n",
    "    '''创建一个字典，包含用户的信息'''\n",
    "    profile={}\n",
    "    profile['first_name']=first\n",
    "    profile['last_name']=last\n",
    "    for key,value in user_info.items():\n",
    "        profile[key]=value\n",
    "    return profile\n",
    "user_profile=build_profile('albert','einstein',location='princeton',filed='physics')\n",
    "print(user_profile)"
   ]
  },
  {
   "cell_type": "markdown",
   "metadata": {},
   "source": [
    "# 将函数存储在模块中\n",
    "    导入整个模块，module_name.py，语法： \n",
    "        improt module_name\n",
    "    导入特定的函数，语法：\n",
    "        from module_name import function_name\n",
    "        from module_name import function_0,function_1,function_2\n",
    "    使用as给函数指定别名，语法：\n",
    "        from module_name import function_name as new_fucntion_name\n",
    "    也可以给指定模块别名\n",
    "        import module_name as new_module_name\n",
    "    导入模块中所有的函数\n",
    "        from module_name import *"
   ]
  }
 ],
 "metadata": {
  "kernelspec": {
   "display_name": "Python 3",
   "language": "python",
   "name": "python3"
  },
  "language_info": {
   "codemirror_mode": {
    "name": "ipython",
    "version": 3
   },
   "file_extension": ".py",
   "mimetype": "text/x-python",
   "name": "python",
   "nbconvert_exporter": "python",
   "pygments_lexer": "ipython3",
   "version": "3.7.1"
  }
 },
 "nbformat": 4,
 "nbformat_minor": 2
}

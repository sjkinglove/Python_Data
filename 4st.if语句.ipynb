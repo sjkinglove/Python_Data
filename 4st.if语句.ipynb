{
 "cells": [
  {
   "cell_type": "markdown",
   "metadata": {},
   "source": [
    "# 一个简单示例"
   ]
  },
  {
   "cell_type": "code",
   "execution_count": 2,
   "metadata": {},
   "outputs": [
    {
     "name": "stdout",
     "output_type": "stream",
     "text": [
      "Audi\n",
      "BMW\n",
      "Subaru\n",
      "Toyota\n"
     ]
    }
   ],
   "source": [
    "cars=['audi','bmw','subaru','toyota']\n",
    "for car in cars:\n",
    "    if car=='bmw':\n",
    "        print(car.upper())\n",
    "    else:\n",
    "        print(car.title())"
   ]
  },
  {
   "cell_type": "code",
   "execution_count": 9,
   "metadata": {},
   "outputs": [
    {
     "name": "stdout",
     "output_type": "stream",
     "text": [
      "True\n",
      "True\n"
     ]
    }
   ],
   "source": [
    "#检查特定值是否在列表中\n",
    "request_toppings=['cat','dog','rat']\n",
    "print('cat' in request_toppings)\n",
    "print('man' not in request_toppings)"
   ]
  },
  {
   "cell_type": "code",
   "execution_count": 12,
   "metadata": {},
   "outputs": [
    {
     "name": "stdout",
     "output_type": "stream",
     "text": [
      "Is car =='subaru'?I predict True\n",
      "True\n",
      "\n",
      "Is car =='audi'?I predict False\n",
      "False\n"
     ]
    }
   ],
   "source": [
    "car = 'subaru'\n",
    "print(\"Is car =='subaru'?I predict True\")\n",
    "print(car == 'subaru')\n",
    "print(\"\\nIs car =='audi'?I predict False\")\n",
    "print(car == 'audi')"
   ]
  },
  {
   "cell_type": "markdown",
   "metadata": {},
   "source": [
    "# if语句\n",
    "    if conditional_test:\n",
    "        do something"
   ]
  },
  {
   "cell_type": "code",
   "execution_count": 15,
   "metadata": {},
   "outputs": [
    {
     "name": "stdout",
     "output_type": "stream",
     "text": [
      "you are old enough to surf the Internet\n"
     ]
    }
   ],
   "source": [
    "#if\n",
    "age=19\n",
    "if age>=18:\n",
    "    print(\"you are old enough to surf the Internet\")\n"
   ]
  },
  {
   "cell_type": "code",
   "execution_count": 18,
   "metadata": {},
   "outputs": [
    {
     "name": "stdout",
     "output_type": "stream",
     "text": [
      "Sorry,you are too yuang to surf the Internet\n"
     ]
    }
   ],
   "source": [
    "#if-else\n",
    "age=16\n",
    "if age>=18:\n",
    "    print(\"you are old enough to surf the Internet\")\n",
    "else:\n",
    "    print(\"Sorry,you are too yuang to surf the Internet\")"
   ]
  },
  {
   "cell_type": "code",
   "execution_count": 21,
   "metadata": {},
   "outputs": [
    {
     "name": "stdout",
     "output_type": "stream",
     "text": [
      "your admission cost is $5\n"
     ]
    }
   ],
   "source": [
    "#if-elif-else\n",
    "age=12\n",
    "if age<4:\n",
    "    print(\"your admission cost is $0\")\n",
    "elif age <18:\n",
    "    print(\"your admission cost is $5\")\n",
    "else:\n",
    "    print(\"your admission cost is $10\")"
   ]
  },
  {
   "cell_type": "code",
   "execution_count": 23,
   "metadata": {},
   "outputs": [
    {
     "name": "stdout",
     "output_type": "stream",
     "text": [
      "this list is empty\n"
     ]
    }
   ],
   "source": [
    "#能判断列表是否为空\n",
    "l=[]\n",
    "if l:\n",
    "    print(\"this list is not empty\")\n",
    "else:\n",
    "    print(\"this list is empty\")"
   ]
  }
 ],
 "metadata": {
  "kernelspec": {
   "display_name": "Python 3",
   "language": "python",
   "name": "python3"
  },
  "language_info": {
   "codemirror_mode": {
    "name": "ipython",
    "version": 3
   },
   "file_extension": ".py",
   "mimetype": "text/x-python",
   "name": "python",
   "nbconvert_exporter": "python",
   "pygments_lexer": "ipython3",
   "version": "3.7.1"
  }
 },
 "nbformat": 4,
 "nbformat_minor": 2
}

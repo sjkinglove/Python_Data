{
 "cells": [
  {
   "cell_type": "markdown",
   "metadata": {},
   "source": [
    "# 遍历整个列表\n",
    "    "
   ]
  },
  {
   "cell_type": "code",
   "execution_count": 3,
   "metadata": {},
   "outputs": [
    {
     "name": "stdout",
     "output_type": "stream",
     "text": [
      "alice\n",
      "david\n",
      "carolina\n"
     ]
    }
   ],
   "source": [
    "#使用for循环打印列表中的元素\n",
    "#for item in list_of_items\n",
    "magicians=['alice','david','carolina']\n",
    "for magician in magicians:\n",
    "    print(magician)"
   ]
  },
  {
   "cell_type": "markdown",
   "metadata": {},
   "source": [
    "# 避免缩进错误\n",
    "    Python根据缩进来判断代码行与前一个代码行的关系\n",
    "    简而言之，该缩的地方缩，不该缩的别缩"
   ]
  },
  {
   "cell_type": "markdown",
   "metadata": {},
   "source": [
    "# 创建数字列表 "
   ]
  },
  {
   "cell_type": "code",
   "execution_count": 6,
   "metadata": {
    "scrolled": true
   },
   "outputs": [
    {
     "name": "stdout",
     "output_type": "stream",
     "text": [
      "1\n",
      "2\n",
      "3\n",
      "4\n"
     ]
    }
   ],
   "source": [
    "#使用函数range()\n",
    "for value in range(1,5):\n",
    "    #range(1,5)等于1<=value<5\n",
    "    print(value)"
   ]
  },
  {
   "cell_type": "code",
   "execution_count": 9,
   "metadata": {},
   "outputs": [
    {
     "name": "stdout",
     "output_type": "stream",
     "text": [
      "[1, 2, 3, 4, 5]\n"
     ]
    }
   ],
   "source": [
    "#使用range()创建数字列表\n",
    "numbers=list(range(1,6))\n",
    "print(numbers)"
   ]
  },
  {
   "cell_type": "code",
   "execution_count": 14,
   "metadata": {},
   "outputs": [
    {
     "name": "stdout",
     "output_type": "stream",
     "text": [
      "<class 'range'>\n",
      "最小值：\n",
      "1\n",
      "最大值：\n",
      "9\n",
      "和：\n",
      "45\n"
     ]
    }
   ],
   "source": [
    "#对数字列表进行统计\n",
    "numbers=range(1,10)\n",
    "print(type(numbers))\n",
    "#最小值\n",
    "print(\"最小值：\")\n",
    "print(min(numbers))\n",
    "#最大值\n",
    "print(\"最大值：\")\n",
    "print(max(numbers))\n",
    "#求和\n",
    "print(\"和：\")\n",
    "print(sum(numbers))"
   ]
  },
  {
   "cell_type": "code",
   "execution_count": 22,
   "metadata": {},
   "outputs": [
    {
     "name": "stdout",
     "output_type": "stream",
     "text": [
      "<class 'list'>\n",
      "list=[1, 4, 9, 16, 25, 36, 49, 64, 81, 100]\n"
     ]
    }
   ],
   "source": [
    "#列表解析\n",
    "squares=[value**2 for value in range(1,11)]\n",
    "print(type(squares))\n",
    "print(\"list={0}\".format(squares))"
   ]
  },
  {
   "cell_type": "markdown",
   "metadata": {},
   "source": [
    "# 使用列表的一部分"
   ]
  },
  {
   "cell_type": "code",
   "execution_count": 46,
   "metadata": {},
   "outputs": [
    {
     "name": "stdout",
     "output_type": "stream",
     "text": [
      "players[:]:['charles', 'martina', 'michael', 'florence', 'eli']\n",
      "players[0:3]:['charles', 'martina', 'michael']\n",
      "players[:1]:['charles']\n",
      "players[3:]:['florence', 'eli']\n",
      "players[-3:]:['michael', 'florence', 'eli']\n",
      "players[1:4:2]:['martina', 'florence']\n",
      "players[-2:-1]:['florence']\n",
      "players[-1:-3:-1]:['eli', 'florence']\n",
      "Here are the first three players on my team:\n",
      "Charles\n",
      "Martina\n",
      "Michael\n"
     ]
    }
   ],
   "source": [
    "#切片\n",
    "#list_name[index_begin,index_end] return new_list\n",
    "players=['charles','martina','michael','florence','eli']\n",
    "print(\"players[:]:{0}\".format(players[:]))\n",
    "print(\"players[0:3]:{0}\".format(players[0:3]))\n",
    "\n",
    "#也可以不指定第一个索引，默认会从列表头开始\n",
    "print(\"players[:1]:{0}\".format(players[:1]))\n",
    "\n",
    "#不指定第二个索引，默认终止列表末尾\n",
    "print(\"players[3:]:{0}\".format(players[3:]))\n",
    "\n",
    "#当第一个索引为负数时，可指定列表最后的指定的元素\n",
    "print(\"players[-3:]:{0}\".format(players[-3:]))\n",
    "\n",
    "#切片可以控制增长的幅度，默认增长幅度为1\n",
    "print(\"players[1:4:2]:{0}\".format(players[1:4:2]))\n",
    "\n",
    "#正常情况吓死，切片索引左边的值一定小于右边的值\n",
    "print(\"players[-2:-1]:{0}\".format(players[-2:-1]))\n",
    "\n",
    "#但也存在例外,但增幅值必须为负数\n",
    "print(\"players[-1:-3:-1]:{0}\".format(players[-1:-3:-1]))\n",
    "\n",
    "#遍历切片\n",
    "print(\"Here are the first three players on my team:\")\n",
    "for player in players[:3]:\n",
    "    print(player.title())"
   ]
  },
  {
   "cell_type": "code",
   "execution_count": 32,
   "metadata": {},
   "outputs": [
    {
     "name": "stdout",
     "output_type": "stream",
     "text": [
      "my favorite foods are:\n",
      "['pizza', 'falafel', 'carrot cake']\n",
      "my friend's favorite foods are:\n",
      "['pizza', 'falafel', 'carrot cake']\n"
     ]
    }
   ],
   "source": [
    "#复制列表\n",
    "my_foods=['pizza','falafel','carrot cake']\n",
    "print(\"my favorite foods are:\")\n",
    "print(my_foods)\n",
    "friend_foods=my_foods[:]\n",
    "print(\"my friend's favorite foods are:\")\n",
    "print(friend_foods)"
   ]
  },
  {
   "cell_type": "markdown",
   "metadata": {},
   "source": [
    "# 元组\n",
    "    列表元素是可修改的，不可变列表被称为元组"
   ]
  },
  {
   "cell_type": "code",
   "execution_count": 34,
   "metadata": {},
   "outputs": [
    {
     "ename": "TypeError",
     "evalue": "'tuple' object does not support item assignment",
     "output_type": "error",
     "traceback": [
      "\u001b[1;31m---------------------------------------------------------------------------\u001b[0m",
      "\u001b[1;31mTypeError\u001b[0m                                 Traceback (most recent call last)",
      "\u001b[1;32m<ipython-input-34-2f0bbcf1f188>\u001b[0m in \u001b[0;36m<module>\u001b[1;34m\u001b[0m\n\u001b[0;32m      1\u001b[0m \u001b[0mdimensions\u001b[0m\u001b[1;33m=\u001b[0m\u001b[1;33m(\u001b[0m\u001b[1;36m200\u001b[0m\u001b[1;33m,\u001b[0m\u001b[1;36m50\u001b[0m\u001b[1;33m)\u001b[0m\u001b[1;33m\u001b[0m\u001b[1;33m\u001b[0m\u001b[0m\n\u001b[0;32m      2\u001b[0m \u001b[1;31m#元组元素不可修改\u001b[0m\u001b[1;33m\u001b[0m\u001b[1;33m\u001b[0m\u001b[1;33m\u001b[0m\u001b[0m\n\u001b[1;32m----> 3\u001b[1;33m \u001b[0mdimensions\u001b[0m\u001b[1;33m[\u001b[0m\u001b[1;36m0\u001b[0m\u001b[1;33m]\u001b[0m\u001b[1;33m=\u001b[0m\u001b[1;36m1\u001b[0m\u001b[1;33m\u001b[0m\u001b[1;33m\u001b[0m\u001b[0m\n\u001b[0m",
      "\u001b[1;31mTypeError\u001b[0m: 'tuple' object does not support item assignment"
     ]
    }
   ],
   "source": [
    "dimensions=(200,50)\n",
    "#元组元素不可修改\n",
    "dimensions[0]=1"
   ]
  },
  {
   "cell_type": "code",
   "execution_count": 37,
   "metadata": {},
   "outputs": [
    {
     "name": "stdout",
     "output_type": "stream",
     "text": [
      "200\n",
      "50\n",
      "400\n",
      "300\n"
     ]
    }
   ],
   "source": [
    "#元组元素不可修改，但元组可重新定义\n",
    "dimensions=(200,50)\n",
    "for dimension in dimensions:\n",
    "    print(dimension)\n",
    "dimensions=(400,300)\n",
    "for dimension in dimensions:\n",
    "    print(dimension)"
   ]
  }
 ],
 "metadata": {
  "kernelspec": {
   "display_name": "Python 3",
   "language": "python",
   "name": "python3"
  },
  "language_info": {
   "codemirror_mode": {
    "name": "ipython",
    "version": 3
   },
   "file_extension": ".py",
   "mimetype": "text/x-python",
   "name": "python",
   "nbconvert_exporter": "python",
   "pygments_lexer": "ipython3",
   "version": "3.7.1"
  }
 },
 "nbformat": 4,
 "nbformat_minor": 2
}

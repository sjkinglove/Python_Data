{
 "cells": [
  {
   "cell_type": "code",
   "execution_count": 3,
   "metadata": {},
   "outputs": [
    {
     "name": "stdout",
     "output_type": "stream",
     "text": [
      "<class 'dict'>\n",
      "green\n"
     ]
    }
   ],
   "source": [
    "alien_0={'color':'green','points':'5'}\n",
    "print(type(alien_0))\n",
    "print(alien_0['color'])"
   ]
  },
  {
   "cell_type": "markdown",
   "metadata": {},
   "source": [
    "# 使用字典"
   ]
  },
  {
   "cell_type": "code",
   "execution_count": 69,
   "metadata": {},
   "outputs": [
    {
     "name": "stdout",
     "output_type": "stream",
     "text": [
      "<class 'dict'>\n",
      "{'one': 1, 'two': 2}\n",
      "<class 'dict'>\n",
      "{'one': 1, 'two': 2}\n",
      "<class 'dict'>\n",
      "{'one': 1, 'two': 2}\n",
      "<class 'dict'>\n",
      "{'one': 1, 'two': 2}\n"
     ]
    }
   ],
   "source": [
    "#字典的4种创建方式\n",
    "d={\"one\":1,\"two\":2}\n",
    "print(type(d))\n",
    "print(d)\n",
    "d=dict({\"one\":1,\"two\":2})\n",
    "print(type(d))\n",
    "print(d)\n",
    "d=dict(one=1,two=2)\n",
    "print(type(d))\n",
    "print(d)\n",
    "d=dict([(\"one\",1),(\"two\",2)])\n",
    "print(type(d))\n",
    "print(d)"
   ]
  },
  {
   "cell_type": "code",
   "execution_count": 72,
   "metadata": {},
   "outputs": [
    {
     "name": "stdout",
     "output_type": "stream",
     "text": [
      "0\n",
      "3\n",
      "{'zero': 0, 'one': 1, 'two': 2, 3: 3, 'four': 4}\n",
      "{'zero': 0, 'one': 1, 'two': 2, 3: 3, 'four': 'four'}\n",
      "{'zero': 0, 'one': 1, 'two': 2, 3: 3}\n",
      "0\n",
      "100\n"
     ]
    }
   ],
   "source": [
    "dictionary={'zero':0,'one':1,'two':2,3:3}\n",
    "#访问字典中的值\n",
    "print(dictionary['zero'])\n",
    "print(dictionary[3])\n",
    "#添加键值对\n",
    "dictionary['four']=4\n",
    "print(dictionary)\n",
    "#修改字典中的值\n",
    "dictionary['four']='four'\n",
    "print(dictionary)\n",
    "#删除键值对\n",
    "del dictionary['four']\n",
    "print(dictionary)\n",
    "#get()获取指定键的值，可设置默认返回值避免空值报错\n",
    "print(dictionary.get('zero'))\n",
    "print(dictionary.get('zero1',100))"
   ]
  },
  {
   "cell_type": "code",
   "execution_count": 73,
   "metadata": {},
   "outputs": [
    {
     "name": "stdout",
     "output_type": "stream",
     "text": [
      "{2: 100, 3: 100, 4: 100, 5: 100}\n"
     ]
    }
   ],
   "source": [
    "#fromkeys:使用指定的列表元素作为键，使用一个值作为字典所有键的值\n",
    "l=[i for i in range(2,6)]\n",
    "d=dict.fromkeys(l,100)\n",
    "print(d)"
   ]
  },
  {
   "cell_type": "markdown",
   "metadata": {},
   "source": [
    "# 遍历字典"
   ]
  },
  {
   "cell_type": "code",
   "execution_count": 25,
   "metadata": {},
   "outputs": [
    {
     "name": "stdout",
     "output_type": "stream",
     "text": [
      "key:username\n",
      "value:zhangsan\n",
      "key:sex\n",
      "value:boy\n",
      "key:age\n",
      "value:13\n",
      "key:hobby\n",
      "value:basketball\n",
      "key:number\n",
      "value:13\n",
      "********************\n",
      "key:username\n",
      "value:zhangsan\n",
      "key:sex\n",
      "value:boy\n",
      "key:age\n",
      "value:13\n",
      "key:hobby\n",
      "value:basketball\n",
      "key:number\n",
      "value:13\n",
      "********************\n",
      "age\n",
      "hobby\n",
      "number\n",
      "sex\n",
      "username\n",
      "********************\n",
      "value:zhangsan\n",
      "value:boy\n",
      "value:13\n",
      "value:basketball\n",
      "value:13\n",
      "********************\n",
      "value:zhangsan\n",
      "value:boy\n",
      "value:13\n",
      "value:basketball\n",
      "********************\n"
     ]
    }
   ],
   "source": [
    "user_0={'username':'zhangsan','sex':'boy','age':'13','hobby':'basketball','number':'13'}\n",
    "#遍历所有的键值对\n",
    "for key,value in user_0.items():\n",
    "    print('key:'+key)\n",
    "    print('value:'+value)\n",
    "print(\"*\"*20)\n",
    "\n",
    "#遍历所有的键\n",
    "for key in user_0.keys():\n",
    "    print('key:'+key)\n",
    "    print('value:'+user_0[key])\n",
    "print(\"*\"*20)\n",
    "\n",
    "#按顺序遍历字典中所有的键\n",
    "for key in sorted(user_0.keys()):\n",
    "    print(key)\n",
    "print(\"*\"*20)\n",
    "\n",
    "#遍历字典中所有的值\n",
    "for value in user_0.values():\n",
    "    print('value:'+value)\n",
    "print(\"*\"*20)\n",
    "\n",
    "#可用set()方法剔除重复项\n",
    "for value in set(user_0.values()):\n",
    "    print('value:'+value)\n",
    "print(\"*\"*20)\n"
   ]
  },
  {
   "cell_type": "code",
   "execution_count": 46,
   "metadata": {},
   "outputs": [
    {
     "name": "stdout",
     "output_type": "stream",
     "text": [
      "[1, 2, 3, 4, 5, 6, 7, 8, 9]\n",
      "{1, 2, 3, 4, 5, 6, 7, 8, 9}\n",
      "********************\n",
      "{1, 2, 3, 4, 5, 6, 7, 8, 9, 100}\n",
      "********************\n",
      "86929480\n",
      "82662568\n",
      "********************\n",
      "{2, 3, 4, 5, 6, 7, 8, 9, 100}\n",
      "********************\n",
      "{3, 4, 5, 6, 7, 8, 9, 100}\n",
      "********************\n",
      "{4, 5, 6, 7, 8, 9, 100}\n",
      "********************\n",
      "86929480\n",
      "86929480\n",
      "********************\n"
     ]
    }
   ],
   "source": [
    "#可用set()生成一个set集合\n",
    "l=[i for i in range(1,10)]\n",
    "print(l)\n",
    "s=set(l)\n",
    "print(s)\n",
    "print(\"*\"*20)\n",
    "\n",
    "#set集合可用add()添加元素\n",
    "s.add(100)\n",
    "print(s)\n",
    "print(\"*\"*20)\n",
    "\n",
    "#copy()拷贝\n",
    "s_0=s.copy()\n",
    "print(id(s))\n",
    "print(id(s_0))\n",
    "print(\"*\"*20)\n",
    "\n",
    "#remove()移除制定的值，直接改变原有的值，值不存在则报错\n",
    "s.remove(1)\n",
    "print(s)\n",
    "print(\"*\"*20)\n",
    "\n",
    "#discard()移除指定的值,跟remove一样\n",
    "s.discard(2)\n",
    "print(s)\n",
    "print(\"*\"*20)\n",
    "\n",
    "#pop()\n",
    "s.pop()\n",
    "print(s)\n",
    "print(\"*\"*20)\n",
    "\n",
    "#clear()可原地清空数据\n",
    "print(id(s))\n",
    "s.clear()\n",
    "print(id(s))\n",
    "print(\"*\"*20)\n",
    "\n"
   ]
  },
  {
   "cell_type": "code",
   "execution_count": 53,
   "metadata": {},
   "outputs": [
    {
     "name": "stdout",
     "output_type": "stream",
     "text": [
      "{5, 6}\n",
      "{1, 2, 3, 4}\n",
      "False\n",
      "True\n",
      "{1, 2, 3, 4}\n"
     ]
    }
   ],
   "source": [
    "#集合函数\n",
    "#intersection:交集\n",
    "#difference:差集\n",
    "#union:并集\n",
    "#issubset:检查一个集合是否为另一个子集\n",
    "#issuperset:检查一个集合是否为另一个超集\n",
    "s_1={i for i in range(1,7)}\n",
    "s_2={i for i in range(5,10)}\n",
    "s_3={i for i in range(1,20)}\n",
    "\n",
    "s_1_0=s_1.intersection(s_2)\n",
    "print(s_1_0)\n",
    "\n",
    "s_1_0=s_1.difference(s_2)\n",
    "print(s_1_0)\n",
    "\n",
    "s_1_0=s_1.issubset(s_2)\n",
    "print(s_1_0)\n",
    "\n",
    "s_1_0=s_2.issubset(s_3)\n",
    "print(s_1_0)\n",
    "\n",
    "s_1_0=s_1-s_2\n",
    "print(s_1_0)"
   ]
  },
  {
   "cell_type": "code",
   "execution_count": 63,
   "metadata": {},
   "outputs": [
    {
     "name": "stdout",
     "output_type": "stream",
     "text": [
      "frozenset({8, 2, 4, 6})\n",
      "<class 'frozenset'>\n",
      "set()\n"
     ]
    }
   ],
   "source": [
    "#frozen set:冰冻集合\n",
    "#不可进行任何修改\n",
    "s=frozenset({i for i in range(1,10) if i%2==0})\n",
    "print(s)\n",
    "print(type(s))\n"
   ]
  },
  {
   "cell_type": "markdown",
   "metadata": {},
   "source": [
    "# 嵌套"
   ]
  },
  {
   "cell_type": "code",
   "execution_count": 1,
   "metadata": {},
   "outputs": [
    {
     "name": "stdout",
     "output_type": "stream",
     "text": [
      "{'color': 'green', 'number': 5}\n",
      "{'color': 'yellow', 'number': 10}\n",
      "{'color': 'red', 'number': 15}\n",
      "********************\n",
      "共有多少外星人：33\n",
      "********************\n",
      "{'color': 'green', 'number': 5}\n",
      "{'color': 'yellow', 'number': 10}\n",
      "{'color': 'red', 'number': 15}\n",
      "{'color': 'green', 'number': 0}\n",
      "{'color': 'green', 'number': 1}\n",
      "********************\n",
      "{'color': 'black', 'number': 5}\n",
      "{'color': 'red', 'number': 10}\n",
      "{'color': 'red', 'number': 15}\n",
      "{'color': 'black', 'number': 0}\n",
      "{'color': 'black', 'number': 1}\n"
     ]
    }
   ],
   "source": [
    "#字典列表\n",
    "alien_0={'color':'green','number':5}\n",
    "alien_1={'color':'yellow','number':10}\n",
    "alien_2={'color':'red','number':15}\n",
    "\n",
    "aliens=[alien_0,alien_1,alien_2]\n",
    "\n",
    "for alien in aliens:\n",
    "    print(alien)\n",
    "print(\"*\"*20)\n",
    "\n",
    "#添加外星人，字典添加进列表\n",
    "for alien_number in range(30):\n",
    "    new_alien={'color':'green','number':alien_number}\n",
    "    aliens.append(new_alien)\n",
    "\n",
    "print(\"共有多少外星人：\"+str(len(aliens)))\n",
    "print(\"*\"*20)\n",
    "\n",
    "#遍历前5名外星人\n",
    "for alien in aliens[:5]:\n",
    "    print(alien)\n",
    "print(\"*\"*20)\n",
    "\n",
    "#按条件修改前5名外星人的颜色\n",
    "for alien in aliens[:5]:\n",
    "    if alien['color'] == 'green':\n",
    "        alien['color']='black'\n",
    "    elif alien['color'] == 'yellow':\n",
    "        alien['color']='red'\n",
    "        \n",
    "for alien in aliens[:5]:\n",
    "    print(alien)"
   ]
  },
  {
   "cell_type": "code",
   "execution_count": 13,
   "metadata": {},
   "outputs": [
    {
     "name": "stdout",
     "output_type": "stream",
     "text": [
      "<class 'dict'>\n",
      "{'crust': 'thick', 'toppings': ['mushrooms', 'extra cheese']}\n",
      "********************\n",
      "you ordered a thick-crust pizza with the following toppings:\n",
      "mushrooms\n",
      "extra cheese\n",
      "********************\n",
      "{'crust': 'thick', 'toppings': ['mushrooms', 'extra cheese', 'spicy']}\n",
      "********************\n",
      "{'crust': 'thick', 'toppings': ['mushrooms', 'extra cheese', 'spicy'], 'extra_info': 'divide into four'}\n"
     ]
    }
   ],
   "source": [
    "#在字典中存储列表\n",
    "#存储所点的披萨信息\n",
    "pizza={\n",
    "    'crust':'thick',\n",
    "    'toppings':['mushrooms','extra cheese']\n",
    "    }\n",
    "print(type(pizza))\n",
    "print(pizza)\n",
    "print(\"*\"*20)\n",
    "\n",
    "#概述所点的披萨\n",
    "print(\"you ordered a \"+pizza['crust']+\"-crust pizza \"+\"with the following toppings:\")\n",
    "\n",
    "for topping in pizza['toppings']:\n",
    "    print(topping)\n",
    "print(\"*\"*20)\n",
    "\n",
    "#添加用户口味\n",
    "pizza['toppings'].append('spicy')\n",
    "print(pizza)\n",
    "print(\"*\"*20)\n",
    "\n",
    "#添加额外信息\n",
    "pizza['extra_info']='divide into four'\n",
    "print(pizza)\n"
   ]
  },
  {
   "cell_type": "code",
   "execution_count": 24,
   "metadata": {},
   "outputs": [
    {
     "name": "stdout",
     "output_type": "stream",
     "text": [
      "Username:Tom\n",
      "Sex:male\n",
      "Age:19\n",
      "********************\n",
      "Username:lucy\n",
      "Sex:female\n",
      "Age:17\n",
      "********************\n"
     ]
    }
   ],
   "source": [
    "#在字典中存储字典\n",
    "users={\n",
    "    'Tom':{\n",
    "        'sex':'male',\n",
    "        'age':19\n",
    "    },\n",
    "    'lucy':{\n",
    "        'sex':'female',\n",
    "        'age':17\n",
    "    }\n",
    "}\n",
    "\n",
    "for name,info in users.items():\n",
    "    print(\"Username:\"+name)\n",
    "    print(\"Sex:\"+info['sex'])\n",
    "    print(\"Age:\"+str(info['age']))\n",
    "    print(\"*\"*20)\n"
   ]
  }
 ],
 "metadata": {
  "kernelspec": {
   "display_name": "Python 3",
   "language": "python",
   "name": "python3"
  },
  "language_info": {
   "codemirror_mode": {
    "name": "ipython",
    "version": 3
   },
   "file_extension": ".py",
   "mimetype": "text/x-python",
   "name": "python",
   "nbconvert_exporter": "python",
   "pygments_lexer": "ipython3",
   "version": "3.7.1"
  }
 },
 "nbformat": 4,
 "nbformat_minor": 2
}

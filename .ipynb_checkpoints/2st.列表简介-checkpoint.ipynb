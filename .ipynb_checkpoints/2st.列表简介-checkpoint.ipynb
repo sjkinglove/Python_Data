{
 "cells": [
  {
   "cell_type": "markdown",
   "metadata": {},
   "source": [
    "# 列表\n",
    "    列表由一系列按特定顺序排列的元素组成\n",
    "    Python中，用[]来表示列表，并用逗号来分隔其中的元素"
   ]
  },
  {
   "cell_type": "code",
   "execution_count": 3,
   "metadata": {},
   "outputs": [
    {
     "name": "stdout",
     "output_type": "stream",
     "text": [
      "['trek', 'cannondale', 'redline', 'speclialized']\n"
     ]
    }
   ],
   "source": [
    "bicycles=['trek','cannondale','redline','speclialized']\n",
    "print(bicycles)"
   ]
  },
  {
   "cell_type": "markdown",
   "metadata": {},
   "source": [
    "# 修改、添加、删除元素\n",
    "    修改列表元素\n",
    "        - 指定列表名和元素的索引，再指定该元素的新值\n",
    "    添加元素\n",
    "        - append()在列表末尾添加元素\n",
    "        - insert()可在列表任意位置添加元素\n",
    "    删除元素\n",
    "        - del 类表名[元素索引]，删除任意列表中的元素\n",
    "        - pop()删除列表任意位置的元素，并返回删除的元素\n",
    "        - remove()根据元素值删除元素\n",
    "         "
   ]
  },
  {
   "cell_type": "code",
   "execution_count": 1,
   "metadata": {},
   "outputs": [
    {
     "name": "stdout",
     "output_type": "stream",
     "text": [
      "['honda', 'yamaha', 'suzuki']\n",
      "['ducati', 'yamaha', 'suzuki']\n",
      "['ducati', 'yamaha', 'suzuki', 'honda']\n",
      "['money', 'ducati', 'yamaha', 'suzuki', 'honda']\n",
      "['ducati', 'yamaha', 'suzuki', 'honda']\n",
      "motorcucles:\n",
      "['ducati', 'suzuki', 'honda']\n",
      "popped_motorcucles:\n",
      "yamaha\n",
      "['suzuki', 'honda']\n",
      "0\n"
     ]
    }
   ],
   "source": [
    "#修改元素\n",
    "motorcucles=['honda','yamaha','suzuki']\n",
    "print(motorcucles)\n",
    "motorcucles[0]='ducati'\n",
    "print(motorcucles)\n",
    "#添加元素\n",
    "motorcucles.append('honda')\n",
    "print(motorcucles)\n",
    "motorcucles.insert(0,'money')\n",
    "print(motorcucles)\n",
    "#删除元素\n",
    "del motorcucles[0]\n",
    "print(motorcucles)\n",
    "popped_motorcucles=motorcucles.pop(1)\n",
    "print(\"motorcucles:\")\n",
    "print(motorcucles)\n",
    "print(\"popped_motorcucles:\")\n",
    "print(popped_motorcucles)\n",
    "motorcucles.remove(\"ducati\")\n",
    "print(motorcucles)\n",
    "#查找指定值或元素的个数\n",
    "num=motorcucles.count(1)\n",
    "print(num)"
   ]
  },
  {
   "cell_type": "markdown",
   "metadata": {},
   "source": [
    "# 组织列表\n",
    "    使用sort()对列表进行永久性排序\n",
    "        -列表.sort()\n",
    "    使用sorted()进行临时排序\n",
    "        -sorted(列表)\n",
    "    使用reverse()反转排序\n",
    "        -列表.reverse()\n",
    "    使用len()确定列表长度\n",
    "        -len(列表)"
   ]
  },
  {
   "cell_type": "code",
   "execution_count": 8,
   "metadata": {},
   "outputs": [
    {
     "name": "stdout",
     "output_type": "stream",
     "text": [
      "It is sorted by sorted method:\n",
      "['audi', 'bmw', 'subaru', 'toyata']\n"
     ]
    }
   ],
   "source": [
    "#sort()方法对列表进行永久性排序\n",
    "cars=['bmw','audi','toyata','subaru']\n",
    "cars.sort()\n",
    "print(\"It is sorted by sorted method:\")\n",
    "print(cars)"
   ]
  },
  {
   "cell_type": "code",
   "execution_count": 6,
   "metadata": {},
   "outputs": [
    {
     "name": "stdout",
     "output_type": "stream",
     "text": [
      "Here is the original list:\n",
      "['bmw', 'audi', 'toyata', 'subaru']\n",
      "Here is the sorted list:\n",
      "['audi', 'bmw', 'subaru', 'toyata']\n",
      "Here is the original list again:\n",
      "['bmw', 'audi', 'toyata', 'subaru']\n",
      "Here is the reverse list:\n",
      "['subaru', 'toyata', 'audi', 'bmw']\n",
      "It is the length of the list:\n",
      "4\n"
     ]
    }
   ],
   "source": [
    "#sorted()方法对列表进行临时排序\n",
    "cars=['bmw','audi','toyata','subaru']\n",
    "print(\"Here is the original list:\")\n",
    "print(cars)\n",
    "print(\"Here is the sorted list:\")\n",
    "print(sorted(cars))\n",
    "print(\"Here is the original list again:\")\n",
    "print(cars)\n",
    "#reverse()反转排序\n",
    "cars.reverse()\n",
    "print(\"Here is the reverse list:\")\n",
    "print(cars)\n",
    "#len()确定列表长度\n",
    "print(\"It is the length of the list:\")\n",
    "print(len(cars))"
   ]
  },
  {
   "cell_type": "markdown",
   "metadata": {},
   "source": [
    "# 使用列表时避免索引错误\n",
    "    列表[-1]可以访问列表最后一个元素，但是列表为空时会导致错误"
   ]
  },
  {
   "cell_type": "code",
   "execution_count": 7,
   "metadata": {},
   "outputs": [
    {
     "name": "stdout",
     "output_type": "stream",
     "text": [
      "It is the end element of the list:\n",
      "subaru\n"
     ]
    }
   ],
   "source": [
    "cars=['bmw','audi','toyata','subaru']\n",
    "print(\"It is the end element of the list:\")\n",
    "print(cars[-1])"
   ]
  }
 ],
 "metadata": {
  "kernelspec": {
   "display_name": "Python 3",
   "language": "python",
   "name": "python3"
  },
  "language_info": {
   "codemirror_mode": {
    "name": "ipython",
    "version": 3
   },
   "file_extension": ".py",
   "mimetype": "text/x-python",
   "name": "python",
   "nbconvert_exporter": "python",
   "pygments_lexer": "ipython3",
   "version": "3.7.1"
  }
 },
 "nbformat": 4,
 "nbformat_minor": 2
}

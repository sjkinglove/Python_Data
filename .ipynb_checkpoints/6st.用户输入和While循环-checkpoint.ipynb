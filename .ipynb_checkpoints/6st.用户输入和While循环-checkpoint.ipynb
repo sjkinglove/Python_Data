{
 "cells": [
  {
   "cell_type": "markdown",
   "metadata": {},
   "source": [
    "# 函数input()"
   ]
  },
  {
   "cell_type": "code",
   "execution_count": null,
   "metadata": {},
   "outputs": [],
   "source": [
    "msg=\"If you tell us who you are,we can personalize the message you see\"\n",
    "msg+=\"\\nWhat is your first name?\"\n",
    "\n",
    "#name=input(msg)\n",
    "#print(\"\\nHello,\"+name)"
   ]
  },
  {
   "cell_type": "markdown",
   "metadata": {},
   "source": [
    "# While循环"
   ]
  },
  {
   "cell_type": "code",
   "execution_count": 3,
   "metadata": {},
   "outputs": [],
   "source": [
    "#让用户选择何时退出\n",
    "prompt=\"\\nTell me something,and I will repeat it back to you:\"\n",
    "prompt+=\"\\nEnter 'quit' to end the program\"\n",
    "msg=\"\"\n",
    "#while msg!=\"quit\":\n",
    "#    msg=input(prompt)\n",
    "#    print(msg)"
   ]
  },
  {
   "cell_type": "code",
   "execution_count": 8,
   "metadata": {},
   "outputs": [],
   "source": [
    "#使用break退出循环\n",
    "prompt=\"\\nTell me something,and I will repeat it back to you:\"\n",
    "prompt+=\"\\nEnter 'quit' to end the program\"\n",
    "while True:\n",
    "#    msg=input(prompt)\n",
    "    if msg=='quit':\n",
    "        break"
   ]
  },
  {
   "cell_type": "code",
   "execution_count": 11,
   "metadata": {},
   "outputs": [
    {
     "name": "stdout",
     "output_type": "stream",
     "text": [
      "1\n",
      "3\n",
      "5\n",
      "7\n",
      "9\n"
     ]
    }
   ],
   "source": [
    "#在循环中使用continue\n",
    "current_number=0\n",
    "while current_number<10:\n",
    "    current_number+=1\n",
    "    if current_number%2==0:\n",
    "        continue\n",
    "    print(current_number)"
   ]
  },
  {
   "cell_type": "markdown",
   "metadata": {},
   "source": [
    "# 使用while循环来处理列表和字典\n"
   ]
  },
  {
   "cell_type": "code",
   "execution_count": 15,
   "metadata": {},
   "outputs": [
    {
     "name": "stdout",
     "output_type": "stream",
     "text": [
      "verifying user:Candace\n",
      "verifying user:Brian\n",
      "verifying user:Alice\n",
      "\n",
      "The follow users have been confirmed:\n",
      "Candace\n",
      "Brian\n",
      "Alice\n"
     ]
    }
   ],
   "source": [
    "#在列表之间移动元素\n",
    "#首先，创建一个待验证的用户表\n",
    "#和一个用于存储已验证用户的空列表\n",
    "unconfirmed_users=['alice','brian','candace']\n",
    "confirmed_users=[]\n",
    "\n",
    "#验证每个用户，直到没有未验证的用户为止\n",
    "#将每个经过验证的列表都移到已验证的用户列表中\n",
    "while unconfirmed_users:\n",
    "    current_user=unconfirmed_users.pop()\n",
    "    print(\"verifying user:\"+current_user.title())\n",
    "    confirmed_users.append(current_user)\n",
    "#显示所有已验证的用户\n",
    "print(\"\\nThe follow users have been confirmed:\")\n",
    "for user in confirmed_users:\n",
    "    print(user.title())"
   ]
  },
  {
   "cell_type": "code",
   "execution_count": 16,
   "metadata": {},
   "outputs": [
    {
     "name": "stdout",
     "output_type": "stream",
     "text": [
      "what is your name:a\n",
      "how old are you:12\n",
      "would you laike to let another person respond?yes or no no\n",
      "a would like to climb12\n"
     ]
    }
   ],
   "source": [
    "#使用用户输入来填充字典\n",
    "responses={}\n",
    "active=True\n",
    "while active:\n",
    "    name=input(\"what is your name:\")\n",
    "    age=input(\"how old are you:\")\n",
    "    responses[name]=age\n",
    "    \n",
    "    repeat=input(\"would you laike to let another person respond?yes or no \")\n",
    "    if repeat=='no':\n",
    "        active=False\n",
    "\n",
    "for name,age in responses.items():\n",
    "    print(name+\"-----------\"+age)"
   ]
  }
 ],
 "metadata": {
  "kernelspec": {
   "display_name": "Python 3",
   "language": "python",
   "name": "python3"
  },
  "language_info": {
   "codemirror_mode": {
    "name": "ipython",
    "version": 3
   },
   "file_extension": ".py",
   "mimetype": "text/x-python",
   "name": "python",
   "nbconvert_exporter": "python",
   "pygments_lexer": "ipython3",
   "version": "3.7.1"
  }
 },
 "nbformat": 4,
 "nbformat_minor": 2
}
